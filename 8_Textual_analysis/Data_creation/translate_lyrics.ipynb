{
 "cells": [
  {
   "cell_type": "code",
   "execution_count": 1,
   "metadata": {},
   "outputs": [],
   "source": [
    "from googletrans import Translator\n",
    "import pandas as pd\n",
    "import time\n",
    "import json"
   ]
  },
  {
   "cell_type": "markdown",
   "metadata": {},
   "source": [
    "## TRANSLATING TO ENGLISH FUNCTION"
   ]
  },
  {
   "cell_type": "code",
   "execution_count": 2,
   "metadata": {},
   "outputs": [],
   "source": [
    "def translate_to_english(sentence):\n",
    "    traductor = Translator()\n",
    "    try:\n",
    "        result = traductor.translate(sentence, dest='en')\n",
    "        return result.src, result.text\n",
    "    except json.JSONDecodeError:\n",
    "        print(\"Error in the decodification.\")\n",
    "        return 'en', sentence\n",
    "    except Exception as e:\n",
    "        print(f\"Error happened: {str(e)}\")\n",
    "        return 'en', sentence"
   ]
  },
  {
   "cell_type": "markdown",
   "metadata": {},
   "source": [
    "# TRANSLATING THE UNIQUE SONGS TO ENGLISH"
   ]
  },
  {
   "cell_type": "code",
   "execution_count": 5,
   "metadata": {},
   "outputs": [
    {
     "name": "stdout",
     "output_type": "stream",
     "text": [
      " Progress: 1.57%Error happened: the JSON object must be str, bytes or bytearray, not NoneType\n",
      " Progress: 11.19%Error happened: the JSON object must be str, bytes or bytearray, not NoneType\n",
      " Progress: 39.16%Error happened: the JSON object must be str, bytes or bytearray, not NoneType\n",
      " Progress: 39.25%Error happened: the JSON object must be str, bytes or bytearray, not NoneType\n",
      " Progress: 39.45%Error happened: the JSON object must be str, bytes or bytearray, not NoneType\n",
      " Progress: 41.02%Error happened: the JSON object must be str, bytes or bytearray, not NoneType\n",
      " Progress: 41.12%Error happened: the JSON object must be str, bytes or bytearray, not NoneType\n",
      " Progress: 41.51%Error happened: the JSON object must be str, bytes or bytearray, not NoneType\n",
      " Progress: 55.15%Error happened: the JSON object must be str, bytes or bytearray, not NoneType\n",
      " Progress: 69.87%Error happened: the JSON object must be str, bytes or bytearray, not NoneType\n",
      " Progress: 78.41%Error happened: 'Translator' object has no attribute 'raise_Exception'\n",
      " Progress: 78.8%%Error happened: the JSON object must be str, bytes or bytearray, not NoneType\n",
      " Progress: 94.21%Error happened: the JSON object must be str, bytes or bytearray, not NoneType\n",
      " Progress: 96.07%"
     ]
    }
   ],
   "source": [
    "dataset = pd.read_csv('.../8_Textual_analysis/final_d3_data.csv')\n",
    "translated_lyrics = {} # Initialize an empty dictionary to store the translations\n",
    "\n",
    "progress = 0\n",
    "n_songs = dataset['track_name'].unique().shape[0]\n",
    "\n",
    "\n",
    "# Iterate over each song in the dataset\n",
    "\n",
    "for song in dataset['lyrics'].unique():\n",
    "    if song not in translated_lyrics:\n",
    "        translated_lyrics[song] = translate_to_english(song)\n",
    "        progress += 1\n",
    "        print('\\r', f'Progress: {round(progress*100/n_songs,2)}%', end='')\n",
    "        time.sleep(0.01)  # Pause to avoid overwhelming the API"
   ]
  },
  {
   "cell_type": "markdown",
   "metadata": {},
   "source": [
    "# SAVING THE NEW DATASET"
   ]
  },
  {
   "cell_type": "code",
   "execution_count": 12,
   "metadata": {},
   "outputs": [],
   "source": [
    "# Create a new dataset storing the translations\n",
    "\n",
    "translated_lyrics_list = []\n",
    "for song in dataset['lyrics']:\n",
    "    translated_lyrics_list.append(translated_lyrics[song])\n",
    "    \n",
    "# Save the dataset to a CSV file\n",
    "\n",
    "# Save the dataset to pandas changing the columns names\n",
    "translated_lyrics_df = pd.DataFrame(translated_lyrics_list, columns=['original_language', 'translated_lyrics'])\n",
    "translated_lyrics_df.to_csv('../translated_lyrics.csv', index=False)"
   ]
  },
  {
   "cell_type": "code",
   "execution_count": 17,
   "metadata": {},
   "outputs": [
    {
     "data": {
      "text/plain": [
       "original_language\n",
       "en     7411\n",
       "es     1371\n",
       "ko       42\n",
       "fr        4\n",
       "de        3\n",
       "kri       2\n",
       "pt        1\n",
       "ja        1\n",
       "Name: count, dtype: int64"
      ]
     },
     "execution_count": 17,
     "metadata": {},
     "output_type": "execute_result"
    }
   ],
   "source": [
    "# Count how many songs for each language\n",
    "\n",
    "translated_lyrics_df['original_language'].value_counts()"
   ]
  }
 ],
 "metadata": {
  "kernelspec": {
   "display_name": "Python 3",
   "language": "python",
   "name": "python3"
  },
  "language_info": {
   "codemirror_mode": {
    "name": "ipython",
    "version": 3
   },
   "file_extension": ".py",
   "mimetype": "text/x-python",
   "name": "python",
   "nbconvert_exporter": "python",
   "pygments_lexer": "ipython3",
   "version": "3.10.6"
  }
 },
 "nbformat": 4,
 "nbformat_minor": 2
}
